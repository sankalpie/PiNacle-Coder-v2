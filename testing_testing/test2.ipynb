{
 "cells": [
  {
   "cell_type": "code",
   "execution_count": 1,
   "metadata": {},
   "outputs": [],
   "source": [
    "!pip install pyarrow"
   ]
  },
  {
   "cell_type": "code",
   "execution_count": null,
   "metadata": {},
   "outputs": [],
   "source": [
    "import pyarrow.parquet as pq\n",
    "import json\n",
    "\n",
    "# Replace 'input.parquet' with the path to your Parquet file\n",
    "parquet_file = './data/train-00000-of-00039-e991a271dbfa9925.parquet'\n",
    "\n",
    "# Read the Parquet file\n",
    "table = pq.read_table(parquet_file)\n",
    "\n",
    "# Convert the table to a JSON string\n",
    "json_data = table.to_pandas().to_json(orient='records')\n",
    "\n",
    "# Write the JSON data to a file or use it as needed\n",
    "with open('output.json', 'w') as json_file:\n",
    "    json_file.write(json_data)\n"
   ]
  },
  {
   "cell_type": "code",
   "execution_count": null,
   "metadata": {},
   "outputs": [],
   "source": [
    "import json\n",
    "\n",
    "# Your JSON data\n",
    "data = [\n",
    "    {\n",
    "        \"name\": \"apple\",\n",
    "        \"description\": \"red\",\n",
    "        \"price\": \"10 dollars\"\n",
    "    },\n",
    "    {\n",
    "        \"name\": \"banana\",\n",
    "        \"description\": \"yellow\",\n",
    "        \"price\": \"20 dollars\"\n",
    "    }\n",
    "]\n",
    "\n",
    "# Add the \"row_idx\" attribute to each object\n",
    "for idx, item in enumerate(data):\n",
    "    item[\"row_idx\"] = idx\n",
    "\n",
    "# Convert the updated list back to JSON\n",
    "json_data = json.dumps(data, indent=2)\n",
    "\n",
    "# Print or save the updated JSON data\n",
    "print(json_data)\n"
   ]
  },
  {
   "cell_type": "code",
   "execution_count": null,
   "metadata": {},
   "outputs": [],
   "source": [
    "import json\n",
    "\n",
    "# Read the JSON file\n",
    "with open(\"test.json\", \"r\") as json_file:\n",
    "    data = json.load(json_file)\n",
    "\n",
    "# Add the \"row_idx\" attribute to each object\n",
    "for idx, item in enumerate(data):\n",
    "    item[\"row_idx\"] = idx\n",
    "\n",
    "# Write the modified data back to the JSON file\n",
    "with open(\"test.json\", \"w\") as json_file:\n",
    "    json.dump(data, json_file, indent=2)\n"
   ]
  },
  {
   "cell_type": "code",
   "execution_count": null,
   "metadata": {},
   "outputs": [],
   "source": [
    "import json\n",
    "\n",
    "# Read the JSON file\n",
    "with open(\"output.json\", \"r\") as json_file:\n",
    "    data = json.load(json_file)\n",
    "\n",
    "# Add the \"row_idx\" attribute to each object\n",
    "for idx, item in enumerate(data):\n",
    "    item[\"row_idx\"] = idx\n",
    "\n",
    "# Write the modified data back to the JSON file\n",
    "with open(\"test.json\", \"w\") as json_file:\n",
    "    json.dump(data, json_file, indent=2)\n"
   ]
  },
  {
   "cell_type": "markdown",
   "metadata": {},
   "source": [
    "# Now test.json contains the actual data that needs to be made into API"
   ]
  },
  {
   "cell_type": "code",
   "execution_count": null,
   "metadata": {},
   "outputs": [],
   "source": [
    "import json\n",
    "\n",
    "# Read the JSON file\n",
    "input_file_path = './test.json'\n",
    "output_file_path = './testKaOutput.json'  # Specify the path for the output JSON file\n",
    "\n",
    "try:\n",
    "    with open(input_file_path, 'r') as json_file:\n",
    "        jsonData = json.load(json_file)\n",
    "\n",
    "        # Define the new values for \"input\" and \"output\"\n",
    "        newInput = [\"gen_input\"]\n",
    "        newOutput = [\"gen_output\"]\n",
    "\n",
    "        # Iterate through the JSON data and update the \"generated_tests\" objects\n",
    "        for item in jsonData:\n",
    "            if 'generated_tests' in item:\n",
    "                item['generated_tests']['input'] = newInput\n",
    "                item['generated_tests']['output'] = newOutput\n",
    "            if 'solutions' in item:\n",
    "                item['solutions']['language']=[1]\n",
    "                item['solutions']['solution']=[\"solution\"]\n",
    "            if 'incorrect_solutions' in item:\n",
    "                item['incorrect_solutions']['language']=[1]\n",
    "                item['incorrect_solutions']['solution']=[\"solution\"]\n",
    "\n",
    "        # Save the modified JSON data to the output file\n",
    "        with open(output_file_path, 'w') as output_file:\n",
    "            json.dump(jsonData, output_file, indent=2)  # You can specify the desired indentation level\n",
    "\n",
    "        print(f\"Modified JSON data saved to {output_file_path}\")\n",
    "\n",
    "except FileNotFoundError:\n",
    "    print(f\"File '{input_file_path}' not found.\")\n",
    "except json.JSONDecodeError as e:\n",
    "    print(f\"Error decoding JSON: {e}\")\n"
   ]
  }
 ],
 "metadata": {
  "kernelspec": {
   "display_name": "my_tensorflow_gpu_env",
   "language": "python",
   "name": "python3"
  },
  "language_info": {
   "codemirror_mode": {
    "name": "ipython",
    "version": 3
   },
   "file_extension": ".py",
   "mimetype": "text/x-python",
   "name": "python",
   "nbconvert_exporter": "python",
   "pygments_lexer": "ipython3",
   "version": "3.9.16"
  },
  "orig_nbformat": 4
 },
 "nbformat": 4,
 "nbformat_minor": 2
}
